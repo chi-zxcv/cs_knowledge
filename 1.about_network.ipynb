{
 "cells": [
  {
   "cell_type": "markdown",
   "id": "4da9b448",
   "metadata": {},
   "source": [
    "## 傳統汽車\n",
    "有控制引擎的ECM(Engine Control Management)  \n",
    "變速箱的TCU(Transmission Control Unit)  \n",
    "車身的BCM（Body Control Management  \n",
    "新能源汽車有整車控制VCU(Vehicle Control Unit)  \n",
    "馬達控制MCU (Motor Control Unit)  \n",
    "電池管理BMS（Battery Management System）等\n"
   ]
  },
  {
   "cell_type": "markdown",
   "id": "1091a34b",
   "metadata": {},
   "source": [
    "## 現代汽車\n",
    "需要各種各樣的電子控制器（Electronic Control Unit，ECU）來實現日益增長的控制功能"
   ]
  },
  {
   "cell_type": "markdown",
   "id": "eb6f14e5",
   "metadata": {},
   "source": [
    "# (1)在這邊的最小單位稱為ECU(Electronic control Unit)"
   ]
  },
  {
   "cell_type": "markdown",
   "id": "762cbfe0",
   "metadata": {},
   "source": [
    "ECU可以看成CPU+儲存裝置+驅動晶片+介面單元組成\n",
    "![ECU](https://pic1.zhimg.com/80/v2-c9d8278f75930f4729029db3f0c8442c_1440w.jpg)"
   ]
  },
  {
   "cell_type": "markdown",
   "id": "310c187d",
   "metadata": {},
   "source": [
    "![car_bus](https://www.artc.org.tw/upfiles/EditUpload/image/epaper/ecHo/2021/12/1-2.png)"
   ]
  },
  {
   "cell_type": "markdown",
   "id": "b7d86335",
   "metadata": {},
   "source": [
    "# (2)CAN(Controller Area Network)就是讓ECU進行溝通的方式"
   ]
  },
  {
   "cell_type": "markdown",
   "id": "d09e035e",
   "metadata": {},
   "source": [
    "## a.需要元素：單片機＋CAN控制器\n",
    "<img src=\"./picture/截圖 2023-10-19 晚上11.38.18.png\">"
   ]
  },
  {
   "cell_type": "markdown",
   "id": "26802f2d",
   "metadata": {},
   "source": [
    "## b.訊號進行方式：利用差值進行判斷\n",
    "\n",
    "=> 壓差為0    => 1\n",
    "=> 壓差為非0  => 0\n",
    "\n",
    "\n",
    "<img src=\"./picture/截圖 2023-10-19 晚上11.38.37.png\">"
   ]
  },
  {
   "cell_type": "markdown",
   "id": "14101271",
   "metadata": {},
   "source": [
    "## c.傳輸架構\n",
    "\n",
    "<img src=\"./picture/截圖 2023-10-20 凌晨12.02.09.png\">"
   ]
  },
  {
   "cell_type": "code",
   "execution_count": null,
   "id": "f16cd40c",
   "metadata": {},
   "outputs": [],
   "source": [
    "(1)識別馬可以知道這些訊息是要發給哪個ＥＣＵ設備\n",
    "(2)RTR:用來區分數據真還是遠程請求真\n",
    "(3)控制碼：用來控制數據長度的\n",
    "    IDE位是用來控制數據長度的\n",
    "(4)CRC（15bit）: checrSUm => 為了確定數據準確性(根據數字計算)\n",
    "(5)CRC界定為：為1\n",
    "(6)兩個ACK碼：\n",
    "    ->第一個為ACK確認位(發送為1;接收為0)\n",
    "    ->第二個為ACK界定位(為1)\n",
    "(7)結束位：七個都是1"
   ]
  },
  {
   "cell_type": "markdown",
   "id": "11500288",
   "metadata": {},
   "source": [
    "IDE位是用來控制識別碼數據長度的\n",
    "<img src=\"./picture/截圖 2023-10-19 晚上11.49.57.png\">"
   ]
  },
  {
   "cell_type": "markdown",
   "id": "0990903a",
   "metadata": {},
   "source": [
    "DLC位（Data Link Control）\n",
    "=>數據長度碼(即byte數)\n",
    "\n",
    "<img src=\"./picture/截圖 2023-10-19 晚上11.52.55.png\">\n",
    "\n",
    "ex: 若DLC為 8 則有 64 bits\n",
    "<img src=\"./picture/截圖 2023-10-19 晚上11.54.27.png\">\n",
    "\n"
   ]
  },
  {
   "cell_type": "code",
   "execution_count": null,
   "id": "fed2361c",
   "metadata": {},
   "outputs": [],
   "source": []
  },
  {
   "cell_type": "markdown",
   "id": "cf46176b",
   "metadata": {},
   "source": [
    "# 1.port number"
   ]
  },
  {
   "cell_type": "markdown",
   "id": "581188a7",
   "metadata": {},
   "source": [
    "![port_number](https://networkverge.com/wp-content/uploads/2022/02/common-ports-cheat-sheet.webp)"
   ]
  }
 ],
 "metadata": {
  "kernelspec": {
   "display_name": "Python 3 (ipykernel)",
   "language": "python",
   "name": "python3"
  },
  "language_info": {
   "codemirror_mode": {
    "name": "ipython",
    "version": 3
   },
   "file_extension": ".py",
   "mimetype": "text/x-python",
   "name": "python",
   "nbconvert_exporter": "python",
   "pygments_lexer": "ipython3",
   "version": "3.9.7"
  }
 },
 "nbformat": 4,
 "nbformat_minor": 5
}
