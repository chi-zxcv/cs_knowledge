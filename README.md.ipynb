{
 "cells": [
  {
   "cell_type": "markdown",
   "id": "e2d443f9",
   "metadata": {},
   "source": [
    "# 1.how to use git "
   ]
  },
  {
   "cell_type": "markdown",
   "id": "ce344e13",
   "metadata": {},
   "source": [
    "<img src=\"./picture/截圖 2023-10-12 上午10.49.13.png\">"
   ]
  },
  {
   "cell_type": "markdown",
   "id": "0e945fa7",
   "metadata": {},
   "source": [
    "<img src=\"./picture/截圖 2023-10-12 上午10.49.22.png\">"
   ]
  },
  {
   "cell_type": "markdown",
   "id": "8c1b5418",
   "metadata": {},
   "source": [
    "<img src=\"./picture/截圖 2023-10-12 上午10.49.30.png\">"
   ]
  },
  {
   "cell_type": "markdown",
   "id": "14f653a3",
   "metadata": {},
   "source": [
    "<img src=\"./picture/截圖 2023-10-12 上午10.49.40.png\">"
   ]
  },
  {
   "cell_type": "markdown",
   "id": "366d0cd2",
   "metadata": {},
   "source": [
    "<img src=\"./picture/截圖 2023-10-12 上午10.49.56.png\">"
   ]
  },
  {
   "cell_type": "markdown",
   "id": "4ca4ba2a",
   "metadata": {},
   "source": [
    "# 2.還原變更"
   ]
  },
  {
   "cell_type": "markdown",
   "id": "0ee321c2",
   "metadata": {},
   "source": [
    "## 1.git revert  \n",
    "git reset  "
   ]
  },
  {
   "cell_type": "markdown",
   "id": "1f7b6499",
   "metadata": {},
   "source": [
    "git revert => 撤銷以前的提交(最常用方法)\n",
    "\n",
    "=> Revert 指令會建立一個新的提交，用於修復先前提交所做的更改。\n",
    "=> 允許您撤消不需要的更改，而無需完全移除提交或修改儲存庫的歷史紀錄。\n",
    "\n",
    "雖然您可以使用git reset或git rebase -i 指令，從歷史紀錄中刪除先前的提交，但一般不建議這樣做，因為這會導致遠端儲存庫與其他成員的本地儲存庫不同。"
   ]
  },
  {
   "cell_type": "markdown",
   "id": "36086f36",
   "metadata": {},
   "source": [
    "# 3.拉取變更"
   ]
  },
  {
   "cell_type": "markdown",
   "id": "525b9775",
   "metadata": {},
   "source": [
    "<img src=\"./picture/截圖 2023-10-12 下午4.14.53.png\">"
   ]
  },
  {
   "cell_type": "markdown",
   "id": "9d650b38",
   "metadata": {},
   "source": [
    "# 4.分支 branch"
   ]
  },
  {
   "cell_type": "markdown",
   "id": "7bf4008e",
   "metadata": {},
   "source": [
    "![branch](https://nulab.com/static/56ab1eef4ae8db3a0199abc3e18952d0/21b4d/02.png)"
   ]
  },
  {
   "cell_type": "code",
   "execution_count": null,
   "id": "b0a9730b",
   "metadata": {},
   "outputs": [],
   "source": []
  },
  {
   "cell_type": "code",
   "execution_count": null,
   "id": "2b03c69a",
   "metadata": {},
   "outputs": [],
   "source": []
  },
  {
   "cell_type": "code",
   "execution_count": null,
   "id": "c20d3a94",
   "metadata": {},
   "outputs": [],
   "source": []
  },
  {
   "cell_type": "code",
   "execution_count": null,
   "id": "f76a0a76",
   "metadata": {},
   "outputs": [],
   "source": []
  }
 ],
 "metadata": {
  "kernelspec": {
   "display_name": "Python 3 (ipykernel)",
   "language": "python",
   "name": "python3"
  },
  "language_info": {
   "codemirror_mode": {
    "name": "ipython",
    "version": 3
   },
   "file_extension": ".py",
   "mimetype": "text/x-python",
   "name": "python",
   "nbconvert_exporter": "python",
   "pygments_lexer": "ipython3",
   "version": "3.9.7"
  }
 },
 "nbformat": 4,
 "nbformat_minor": 5
}
