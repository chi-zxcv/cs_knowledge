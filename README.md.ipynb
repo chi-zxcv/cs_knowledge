{
 "cells": [
  {
   "cell_type": "markdown",
   "id": "e2d443f9",
   "metadata": {},
   "source": [
    "# how to use git "
   ]
  },
  {
   "cell_type": "markdown",
   "id": "ce344e13",
   "metadata": {},
   "source": [
    "<img src=\"./picture/截圖 2023-10-12 上午10.49.13.png\">"
   ]
  },
  {
   "cell_type": "markdown",
   "id": "0e945fa7",
   "metadata": {},
   "source": [
    "<img src=\"./picture/截圖 2023-10-12 上午10.49.22.png\">"
   ]
  },
  {
   "cell_type": "markdown",
   "id": "8c1b5418",
   "metadata": {},
   "source": [
    "<img src=\"./picture/截圖 2023-10-12 上午10.49.30.png\">"
   ]
  },
  {
   "cell_type": "markdown",
   "id": "14f653a3",
   "metadata": {},
   "source": [
    "<img src=\"./picture/截圖 2023-10-12 上午10.49.40.png\">"
   ]
  },
  {
   "cell_type": "markdown",
   "id": "366d0cd2",
   "metadata": {},
   "source": [
    "<img src=\"./picture/截圖 2023-10-12 上午10.49.56.png\">"
   ]
  },
  {
   "cell_type": "markdown",
   "id": "0a2ed470",
   "metadata": {},
   "source": [
    "## 還原變更"
   ]
  },
  {
   "cell_type": "markdown",
   "id": "779f354e",
   "metadata": {},
   "source": [
    "git revert  \n",
    "git reset  "
   ]
  },
  {
   "cell_type": "code",
   "execution_count": null,
   "id": "3cc0b2e4",
   "metadata": {},
   "outputs": [],
   "source": [
    "git revert => 撤銷以前的提交"
   ]
  },
  {
   "cell_type": "code",
   "execution_count": null,
   "id": "7fea3a16",
   "metadata": {},
   "outputs": [],
   "source": []
  },
  {
   "cell_type": "code",
   "execution_count": null,
   "id": "4a0810d4",
   "metadata": {},
   "outputs": [],
   "source": []
  }
 ],
 "metadata": {
  "kernelspec": {
   "display_name": "Python 3 (ipykernel)",
   "language": "python",
   "name": "python3"
  },
  "language_info": {
   "codemirror_mode": {
    "name": "ipython",
    "version": 3
   },
   "file_extension": ".py",
   "mimetype": "text/x-python",
   "name": "python",
   "nbconvert_exporter": "python",
   "pygments_lexer": "ipython3",
   "version": "3.9.7"
  }
 },
 "nbformat": 4,
 "nbformat_minor": 5
}
