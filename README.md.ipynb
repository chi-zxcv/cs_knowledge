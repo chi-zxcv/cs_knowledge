{
 "cells": [
  {
   "cell_type": "markdown",
   "id": "e2d443f9",
   "metadata": {},
   "source": [
    "# 1.how to use git "
   ]
  },
  {
   "cell_type": "markdown",
   "id": "ce344e13",
   "metadata": {},
   "source": [
    "<img src=\"./picture/截圖 2023-10-12 上午10.49.13.png\">"
   ]
  },
  {
   "cell_type": "markdown",
   "id": "0e945fa7",
   "metadata": {},
   "source": [
    "<img src=\"./picture/截圖 2023-10-12 上午10.49.22.png\">"
   ]
  },
  {
   "cell_type": "markdown",
   "id": "8c1b5418",
   "metadata": {},
   "source": [
    "<img src=\"./picture/截圖 2023-10-12 上午10.49.30.png\">"
   ]
  },
  {
   "cell_type": "markdown",
   "id": "14f653a3",
   "metadata": {},
   "source": [
    "<img src=\"./picture/截圖 2023-10-12 上午10.49.40.png\">"
   ]
  },
  {
   "cell_type": "markdown",
   "id": "366d0cd2",
   "metadata": {},
   "source": [
    "<img src=\"./picture/截圖 2023-10-12 上午10.49.56.png\">"
   ]
  },
  {
   "cell_type": "markdown",
   "id": "d9db83d2",
   "metadata": {},
   "source": [
    "# 2.還原變更"
   ]
  },
  {
   "cell_type": "markdown",
   "id": "dcbc1445",
   "metadata": {},
   "source": [
    "## 1.git revert  \n",
    "git reset  "
   ]
  },
  {
   "cell_type": "markdown",
   "id": "3a676331",
   "metadata": {},
   "source": [
    "git revert => 撤銷以前的提交(最常用方法)\n",
    "\n",
    "=> Revert 指令會建立一個新的提交，用於修復先前提交所做的更改。\n",
    "=> 允許您撤消不需要的更改，而無需完全移除提交或修改儲存庫的歷史紀錄。\n",
    "\n",
    "雖然您可以使用git reset或git rebase -i 指令，從歷史紀錄中刪除先前的提交，但一般不建議這樣做，因為這會導致遠端儲存庫與其他成員的本地儲存庫不同。"
   ]
  },
  {
   "cell_type": "markdown",
   "id": "5c3148c6",
   "metadata": {},
   "source": [
    "# 3.拉取變更"
   ]
  },
  {
   "cell_type": "markdown",
   "id": "f081a014",
   "metadata": {},
   "source": [
    "<img src=\"./picture/截圖 2023-10-12 下午4.14.53.png\">"
   ]
  },
  {
   "cell_type": "markdown",
   "id": "2ee3ca26",
   "metadata": {},
   "source": [
    "# 4.分支 branch"
   ]
  },
  {
   "cell_type": "markdown",
   "id": "b9d4fcc0",
   "metadata": {},
   "source": [
    "![branch](https://nulab.com/static/56ab1eef4ae8db3a0199abc3e18952d0/21b4d/02.png)"
   ]
  },
  {
   "cell_type": "markdown",
   "id": "0b71d694",
   "metadata": {},
   "source": [
    "## 建立branch"
   ]
  },
  {
   "cell_type": "markdown",
   "id": "ef2d731f",
   "metadata": {},
   "source": [
    "__ 執行 git branch 命令，只是「建立」一個新的分支——它並不會切換到這個分支。__"
   ]
  },
  {
   "cell_type": "markdown",
   "id": "397d7383",
   "metadata": {},
   "source": [
    "<img src=\"./picture/截圖 2023-10-12 下午5.32.34.png\">"
   ]
  },
  {
   "cell_type": "markdown",
   "id": "b47916d1",
   "metadata": {},
   "source": [
    "## 確認內容"
   ]
  },
  {
   "cell_type": "markdown",
   "id": "ccdd63f3",
   "metadata": {},
   "source": [
    "<img src=\"./picture/截圖 2023-10-12 下午5.32.47.png\">"
   ]
  },
  {
   "cell_type": "markdown",
   "id": "280adad6",
   "metadata": {},
   "source": [
    "<img src=\"./picture/截圖 2023-10-12 下午5.32.02.png\">"
   ]
  },
  {
   "cell_type": "markdown",
   "id": "93fc8053",
   "metadata": {},
   "source": [
    "<img src=\"./picture/截圖 2023-10-12 下午5.38.02.png\">"
   ]
  },
  {
   "cell_type": "code",
   "execution_count": null,
   "id": "f27ec04f",
   "metadata": {},
   "outputs": [],
   "source": [
    "## 變換指向"
   ]
  },
  {
   "cell_type": "code",
   "execution_count": null,
   "id": "34a1f2ad",
   "metadata": {},
   "outputs": [],
   "source": [
    "在分支之間切換\n",
    "要切換到一個已經存在的分支，你可以執行 git checkout + name 命令， 讓我們切換到新的 name 分支：\n",
    "\n",
    "$ git checkout testing\n",
    "這會移動 HEAD 並指向 testing 分支。"
   ]
  },
  {
   "cell_type": "code",
   "execution_count": null,
   "id": "35c61caf",
   "metadata": {},
   "outputs": [],
   "source": []
  },
  {
   "cell_type": "code",
   "execution_count": null,
   "id": "fd068c33",
   "metadata": {},
   "outputs": [],
   "source": []
  },
  {
   "cell_type": "code",
   "execution_count": null,
   "id": "03c36922",
   "metadata": {},
   "outputs": [],
   "source": []
  },
  {
   "cell_type": "code",
   "execution_count": null,
   "id": "061dea98",
   "metadata": {},
   "outputs": [],
   "source": []
  },
  {
   "cell_type": "code",
   "execution_count": null,
   "id": "498d7589",
   "metadata": {},
   "outputs": [],
   "source": []
  }
 ],
 "metadata": {
  "kernelspec": {
   "display_name": "Python 3 (ipykernel)",
   "language": "python",
   "name": "python3"
  },
  "language_info": {
   "codemirror_mode": {
    "name": "ipython",
    "version": 3
   },
   "file_extension": ".py",
   "mimetype": "text/x-python",
   "name": "python",
   "nbconvert_exporter": "python",
   "pygments_lexer": "ipython3",
   "version": "3.9.7"
  }
 },
 "nbformat": 4,
 "nbformat_minor": 5
}
