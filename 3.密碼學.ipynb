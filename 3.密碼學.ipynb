{
 "cells": [
  {
   "cell_type": "markdown",
   "id": "2b501005",
   "metadata": {},
   "source": [
    "# Classical Cryptography – 古典密碼學"
   ]
  },
  {
   "cell_type": "markdown",
   "id": "f746a171",
   "metadata": {},
   "source": [
    "## 基本概念"
   ]
  },
  {
   "cell_type": "markdown",
   "id": "d9adb6e7",
   "metadata": {},
   "source": [
    "### 明文 Plain Text\n",
    "傳送方傳送的可讀信息，不僅只限於文檔，音檔、圖片、影片都可以作為明文存在。\n",
    "\n",
    "### 密文 Cipher Text\n",
    "由明文經過加密算法後產生的結果。\n",
    "\n",
    "### 加密 Encryption\n",
    "將明文資料轉變成密文的過程。\n",
    "\n",
    "### 解密 Decryption\n",
    "在對稱密碼學中，解密方需要知道密鑰及解密方法，經由解密後，才能將密文還原成正常的可讀信息。\n",
    "\n",
    "### 加密演算法 Cipher\n",
    "加密演算法就是加密的方法，可分為兩類：對稱加密和非對稱加密。\n",
    "(1)對稱加密在加密及解密時使用同樣的密鑰。\n",
    "(2)非對稱加密在加密及解密時使用不同的密鑰。\n",
    "\n",
    "### 密鑰 Key\n",
    "指用來完成加密、解密、驗證時的秘密信息。\n",
    "對稱密碼學中，由於加密和解密使用同一個密鑰，因此密鑰需要保密。\n",
    "非對稱密碼學中，加密和解密使用的密鑰不同，通常一個是公開的，稱為公鑰，另一個保密，稱為私鑰。"
   ]
  },
  {
   "cell_type": "markdown",
   "id": "c816afab",
   "metadata": {},
   "source": [
    "## 古典加密系統"
   ]
  },
  {
   "cell_type": "markdown",
   "id": "a16da4a6",
   "metadata": {},
   "source": [
    "(1)凱薩密碼\n",
    "<img src=\"./picture/截圖 2023-10-17 下午11.55.37.png\">"
   ]
  },
  {
   "cell_type": "code",
   "execution_count": null,
   "id": "b3d24810",
   "metadata": {},
   "outputs": [],
   "source": [
    "#include<stdio.h>\n",
    "#include<ctype.h>\n",
    "#define MAX_NUMBER 500\n",
    "int main() {\n",
    "\n",
    "    char text[MAX_NUMBER], ch,condition;\n",
    "    int key;\n",
    "\n",
    "    // Taking user input.\n",
    "    printf(\"Enter a message: \");\n",
    "    scanf(\"%s\", text);\n",
    "\n",
    "    printf(\"Enter the key: \");\n",
    "    scanf(\"%d\", &key);\n",
    "    \n",
    "    printf(\"Enter a message to encrypt(e) or decrypt(d): \");\n",
    "    scanf(\"%c\", &condition);\n",
    "\n",
    "    // Visiting character by character.\n",
    "    if(condition==e){\n",
    "        for (int i = 0; text[i] != '\\0'; ++i) {\n",
    "            ch = text[i];\n",
    "            // Check for valid characters.\n",
    "            if (isalnum(ch)) {\n",
    "                if (islower(ch)) { //Lowercase characters.\n",
    "                    ch = (ch - 'a' + key) % 26 + 'a';\n",
    "                }\n",
    "                if (isupper(ch)) { // Uppercase characters.\n",
    "                    ch = (ch - 'A' + key) % 26 + 'A';\n",
    "                }\n",
    "                if (isdigit(ch)) { // Numbers.\n",
    "                    ch = (ch - '0' + key) % 10 + '0';\n",
    "                }\n",
    "            }else { // Invalid character.\n",
    "                printf(\"Invalid Message\");\n",
    "            }\n",
    "            text[i] = ch; // Adding encoded answer.\n",
    "        }\n",
    "    }else{\n",
    "        for (int i = 0; text[i] != '\\0'; ++i) {\n",
    "            ch = text[i];\n",
    "            // Check for valid characters.\n",
    "            if (isalnum(ch)) {\n",
    "                if (islower(ch)) { //Lowercase characters.\n",
    "                    ch = (ch - 'a' - key) % 26 + 'a';\n",
    "                }\n",
    "                if (isupper(ch)) { // Uppercase characters.\n",
    "                    ch = (ch - 'A' - key) % 26 + 'A';\n",
    "                }\n",
    "                if (isdigit(ch)) { // Numbers.\n",
    "                    ch = (ch - '0' - key) % 10 + '0';\n",
    "                }\n",
    "            }else { // Invalid character.\n",
    "                printf(\"Invalid Message\");\n",
    "            }\n",
    "            text[i] = ch; // Adding encoded answer.\n",
    "        }\n",
    "    }\n",
    "    printf(\"Encrypted message: %s\", text);\n",
    "    return 0;\n",
    "}"
   ]
  },
  {
   "cell_type": "markdown",
   "id": "fd0fe6a8",
   "metadata": {},
   "source": [
    "(2)替換密碼\n",
    "<img src=\"./picture/截圖 2023-10-18 上午12.18.38.png\">"
   ]
  },
  {
   "cell_type": "markdown",
   "id": "9a5e2188",
   "metadata": {},
   "source": [
    "(3)仿射密碼\n",
    "<img src=\"./picture/截圖 2023-10-18 上午12.21.17.png\">"
   ]
  },
  {
   "cell_type": "markdown",
   "id": "68db93fd",
   "metadata": {},
   "source": [
    "=>a不能任選\n",
    "=>b可以任選\n",
    "<img src=\"./picture/截圖 2023-10-18 上午12.30.24.png\">"
   ]
  },
  {
   "cell_type": "markdown",
   "id": "a51bd5c0",
   "metadata": {},
   "source": [
    "(4)多字母密碼\n",
    "<img src=\"./picture/截圖 2023-10-18 上午12.35.16.png\">"
   ]
  },
  {
   "cell_type": "markdown",
   "id": "404fc68b",
   "metadata": {},
   "source": [
    "=>加密\n",
    "<img src=\"./picture/截圖 2023-10-18 上午11.10.24.png\">"
   ]
  },
  {
   "cell_type": "markdown",
   "id": "16e47d93",
   "metadata": {},
   "source": [
    "=>解密\n",
    "<img src=\"./picture/截圖 2023-10-18 上午11.12.52.png\">"
   ]
  },
  {
   "cell_type": "code",
   "execution_count": 5,
   "id": "db3be234",
   "metadata": {},
   "outputs": [
    {
     "name": "stdout",
     "output_type": "stream",
     "text": [
      "RSGSEVHGGX\n",
      "HELPSAVEME\n"
     ]
    }
   ],
   "source": [
    "import numpy as np\n",
    "\n",
    "letters = \"ABCDEFGHIJKLMNOPQRSTUVWXYZ\"\n",
    "A = np.array([[3, 5], [1, 2]])\n",
    "b = np.array([2, 3])\n",
    "\n",
    "\n",
    "def encrypt(plaintext):\n",
    "    cipher = \"\"\n",
    "    for i in range(0, len(plaintext), 2):\n",
    "        first_letter = plaintext[i]\n",
    "        second_letter = plaintext[i + 1]\n",
    "        p_1 = letters.find(first_letter)\n",
    "        p_2 = letters.find(second_letter)\n",
    "        p = np.array([p_1, p_2])\n",
    "        cipher_vector = np.dot(A, p) + b\n",
    "        c_1 = cipher_vector[0] % 26\n",
    "        c_2 = cipher_vector[1] % 26\n",
    "        cipher += letters[c_1]\n",
    "        cipher += letters[c_2]\n",
    "    return cipher\n",
    "\n",
    "def decrypt(cipher):\n",
    "    A_inverse = np.array([[2, -5], [-1, 3]])\n",
    "    plaintext = \"\"\n",
    "    for i in range(0, len(cipher), 2):\n",
    "        first_letter = cipher[i]\n",
    "        second_letter = cipher[i + 1]\n",
    "        c_1 = letters.find(first_letter)\n",
    "        c_2 = letters.find(second_letter)\n",
    "        c = np.array([c_1, c_2])\n",
    "        plaintext_vector = np.dot(A_inverse, c) - np.dot(A_inverse, b)\n",
    "        p_1 = plaintext_vector[0] % 26\n",
    "        p_2 = plaintext_vector[1] % 26\n",
    "        plaintext += letters[p_1]\n",
    "        plaintext += letters[p_2]\n",
    "    return plaintext\n",
    "\n",
    "print(encrypt(\"HELPSAVEME\"))\n",
    "print(decrypt(\"RSGSEVHGGX\"))"
   ]
  },
  {
   "cell_type": "markdown",
   "id": "b8f5190d",
   "metadata": {},
   "source": [
    "(5)置換密碼\n",
    "<img src=\"./picture/截圖 2023-10-18 上午11.20.47.png\">"
   ]
  }
 ],
 "metadata": {
  "kernelspec": {
   "display_name": "Python 3 (ipykernel)",
   "language": "python",
   "name": "python3"
  },
  "language_info": {
   "codemirror_mode": {
    "name": "ipython",
    "version": 3
   },
   "file_extension": ".py",
   "mimetype": "text/x-python",
   "name": "python",
   "nbconvert_exporter": "python",
   "pygments_lexer": "ipython3",
   "version": "3.9.7"
  }
 },
 "nbformat": 4,
 "nbformat_minor": 5
}
