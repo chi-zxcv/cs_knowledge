{
 "cells": [
  {
   "cell_type": "markdown",
   "id": "cf46176b",
   "metadata": {},
   "source": [
    "# 1.port number"
   ]
  },
  {
   "cell_type": "markdown",
   "id": "581188a7",
   "metadata": {},
   "source": [
    "![port_number](https://networkverge.com/wp-content/uploads/2022/02/common-ports-cheat-sheet.webp)"
   ]
  },
  {
   "cell_type": "code",
   "execution_count": null,
   "id": "c702a358",
   "metadata": {},
   "outputs": [],
   "source": []
  },
  {
   "cell_type": "code",
   "execution_count": null,
   "id": "6b2bb9a8",
   "metadata": {},
   "outputs": [],
   "source": []
  },
  {
   "cell_type": "code",
   "execution_count": null,
   "id": "43993dd5",
   "metadata": {},
   "outputs": [],
   "source": []
  },
  {
   "cell_type": "code",
   "execution_count": null,
   "id": "796c01db",
   "metadata": {},
   "outputs": [],
   "source": []
  },
  {
   "cell_type": "code",
   "execution_count": null,
   "id": "fed2361c",
   "metadata": {},
   "outputs": [],
   "source": []
  }
 ],
 "metadata": {
  "kernelspec": {
   "display_name": "Python 3 (ipykernel)",
   "language": "python",
   "name": "python3"
  },
  "language_info": {
   "codemirror_mode": {
    "name": "ipython",
    "version": 3
   },
   "file_extension": ".py",
   "mimetype": "text/x-python",
   "name": "python",
   "nbconvert_exporter": "python",
   "pygments_lexer": "ipython3",
   "version": "3.9.7"
  }
 },
 "nbformat": 4,
 "nbformat_minor": 5
}
