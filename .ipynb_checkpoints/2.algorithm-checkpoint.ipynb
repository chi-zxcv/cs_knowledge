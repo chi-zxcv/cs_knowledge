{
 "cells": [
  {
   "cell_type": "markdown",
   "id": "43f4bbeb",
   "metadata": {},
   "source": [
    "# 1.Big O"
   ]
  },
  {
   "cell_type": "markdown",
   "id": "53d2c69f",
   "metadata": {},
   "source": [
    "<img src=\"./picture/pic1.png\">"
   ]
  },
  {
   "cell_type": "markdown",
   "id": "b3e00d93",
   "metadata": {},
   "source": [
    "<img src=\"./picture/pic2.png\">"
   ]
  },
  {
   "cell_type": "markdown",
   "id": "99fe9c8e",
   "metadata": {},
   "source": [
    "<img src=\"./picture/pic3.png\">"
   ]
  },
  {
   "cell_type": "markdown",
   "id": "f24337b8",
   "metadata": {},
   "source": [
    "<img src=\"./picture/pic4.png\">"
   ]
  },
  {
   "cell_type": "markdown",
   "id": "689e9bab",
   "metadata": {},
   "source": [
    "# 2.Big Omega（在函式下方）"
   ]
  },
  {
   "cell_type": "markdown",
   "id": "4fe2c3b4",
   "metadata": {},
   "source": [
    "<img src=\"./picture/pic5.png\">"
   ]
  },
  {
   "cell_type": "markdown",
   "id": "2ca63624",
   "metadata": {},
   "source": [
    "<img src=\"./picture/pic6.png\">"
   ]
  },
  {
   "cell_type": "markdown",
   "id": "d72744fa",
   "metadata": {},
   "source": [
    "<img src=\"./picture/pic7.png\">"
   ]
  },
  {
   "cell_type": "markdown",
   "id": "381fe6d6",
   "metadata": {},
   "source": [
    "<img src=\"./picture/pic8.png\">"
   ]
  },
  {
   "cell_type": "markdown",
   "id": "69602d47",
   "metadata": {},
   "source": [
    "# 3.Big Theta（在函式下方）"
   ]
  },
  {
   "cell_type": "markdown",
   "id": "7dcc9e49",
   "metadata": {},
   "source": [
    "<img src=\"./picture/pic9.png\">"
   ]
  },
  {
   "cell_type": "markdown",
   "id": "5cb5b81d",
   "metadata": {},
   "source": [
    "<img src=\"./picture/pic10.png\">"
   ]
  },
  {
   "cell_type": "markdown",
   "id": "784a4918",
   "metadata": {},
   "source": [
    "<img src=\"./picture/pic11.png\">"
   ]
  },
  {
   "cell_type": "markdown",
   "id": "6a433c65",
   "metadata": {},
   "source": [
    "# 4.sorting"
   ]
  },
  {
   "cell_type": "markdown",
   "id": "b0a3ef0b",
   "metadata": {},
   "source": [
    "(1)bubble sorting"
   ]
  },
  {
   "cell_type": "code",
   "execution_count": 3,
   "id": "64166533",
   "metadata": {},
   "outputs": [
    {
     "ename": "SyntaxError",
     "evalue": "invalid syntax (2634995357.py, line 1)",
     "output_type": "error",
     "traceback": [
      "\u001b[0;36m  File \u001b[0;32m\"/var/folders/nq/74_7g1yj45zcbbrgww0_5m8w0000gn/T/ipykernel_17018/2634995357.py\"\u001b[0;36m, line \u001b[0;32m1\u001b[0m\n\u001b[0;31m    void bubbleSort(int arr[], int n)\u001b[0m\n\u001b[0m         ^\u001b[0m\n\u001b[0;31mSyntaxError\u001b[0m\u001b[0;31m:\u001b[0m invalid syntax\n"
     ]
    }
   ],
   "source": [
    "void bubbleSort(int arr[], int n)\n",
    "{\n",
    "    int i, j;\n",
    "    bool swapped;\n",
    "    for (i = 0; i < n - 1; i++) {\n",
    "        swapped = false;\n",
    "        for (j = 0; j < n - i - 1; j++) {\n",
    "            if (arr[j] > arr[j + 1]) {\n",
    "                swap(arr[j], arr[j + 1]);\n",
    "                swapped = true;\n",
    "            }\n",
    "        }\n",
    "        if (swapped == false)\n",
    "            break;\n",
    "    }\n",
    "}"
   ]
  },
  {
   "cell_type": "markdown",
   "id": "0d8d3e27",
   "metadata": {},
   "source": [
    "(2)inserting sort"
   ]
  },
  {
   "cell_type": "markdown",
   "id": "5f320133",
   "metadata": {},
   "source": [
    "![inserting_sort](https://media.geeksforgeeks.org/wp-content/uploads/insertionsort.png)"
   ]
  },
  {
   "cell_type": "code",
   "execution_count": null,
   "id": "d40d53f0",
   "metadata": {},
   "outputs": [],
   "source": [
    "void insertionSort(int * arr, int n)\n",
    "{\n",
    "    int i, key, j;\n",
    "    for (i = 1; i < n; i++) {\n",
    "        key = arr[i];\n",
    "        j = i - 1;\n",
    " \n",
    "        /* Move elements of arr[0..i-1], that are\n",
    "          greater than key, to one position ahead\n",
    "          of their current position */\n",
    "        while (j >= 0 && arr[j] > key) {\n",
    "            arr[j + 1] = arr[j];\n",
    "            j = j - 1;\n",
    "        }\n",
    "        arr[j + 1] = key;\n",
    "    }\n",
    "}\n",
    " \n",
    " "
   ]
  },
  {
   "cell_type": "markdown",
   "id": "27b38b2d",
   "metadata": {},
   "source": [
    "(3)selection sort"
   ]
  },
  {
   "cell_type": "markdown",
   "id": "1f5ecadf",
   "metadata": {},
   "source": [
    "=>從後面的array中挑選最小的元素"
   ]
  },
  {
   "cell_type": "markdown",
   "id": "779d8102",
   "metadata": {},
   "source": [
    "![selection_sort](https://www.w3resource.com/w3r_images/selection-short.png)"
   ]
  },
  {
   "cell_type": "code",
   "execution_count": null,
   "id": "789283e6",
   "metadata": {},
   "outputs": [],
   "source": [
    "void swap(int *xp, int *yp)\n",
    "{\n",
    "    int temp = *xp;\n",
    "    *xp = *yp;\n",
    "    *yp = temp;\n",
    "}\n",
    " \n",
    "void selectionSort(int arr[], int n)\n",
    "{\n",
    "    int i, j, min_idx;\n",
    " \n",
    "    // One by one move boundary of unsorted subarray\n",
    "    for (i = 0; i < n-1; i++)\n",
    "    {\n",
    "        // Find the minimum element in unsorted array\n",
    "        min_idx = i;\n",
    "        for (j = i+1; j < n; j++)\n",
    "          if (arr[j] < arr[min_idx])\n",
    "            min_idx = j;\n",
    " \n",
    "        // Swap the found minimum element with the first element\n",
    "           if(min_idx != i)\n",
    "            swap(&arr[min_idx], &arr[i]);\n",
    "    }\n",
    "}\n",
    " "
   ]
  },
  {
   "cell_type": "markdown",
   "id": "3a062777",
   "metadata": {},
   "source": [
    "(4)merge sort  \n",
    "=> O(nlogn)"
   ]
  },
  {
   "cell_type": "markdown",
   "id": "6c2ec044",
   "metadata": {},
   "source": [
    "![merge sort](https://media.geeksforgeeks.org/wp-content/cdn-uploads/Merge-Sort-Tutorial.png)"
   ]
  },
  {
   "cell_type": "code",
   "execution_count": null,
   "id": "8c398fae",
   "metadata": {},
   "outputs": [],
   "source": [
    "\n",
    "// C program for Merge Sort \n",
    "#include <stdio.h> \n",
    "#include <stdlib.h> \n",
    "  \n",
    "// Merges two subarrays of arr[]. \n",
    "// First subarray is arr[l..m] \n",
    "// Second subarray is arr[m+1..r] \n",
    "void merge(int arr[], int l, int m, int r) \n",
    "{ \n",
    "    int i, j, k; \n",
    "    int n1 = m - l + 1; \n",
    "    int n2 = r - m; \n",
    "  \n",
    "    // Create temp arrays \n",
    "    int L[n1], R[n2]; \n",
    "  \n",
    "    // Copy data to temp arrays \n",
    "    // L[] and R[] \n",
    "    for (i = 0; i < n1; i++) \n",
    "        L[i] = arr[l + i]; \n",
    "    for (j = 0; j < n2; j++) \n",
    "        R[j] = arr[m + 1 + j]; \n",
    "  \n",
    "    // Merge the temp arrays back \n",
    "    // into arr[l..r] \n",
    "    // Initial index of first subarray \n",
    "    i = 0; \n",
    "  \n",
    "    // Initial index of second subarray \n",
    "    j = 0; \n",
    "  \n",
    "    // Initial index of merged subarray \n",
    "    k = l; \n",
    "    while (i < n1 && j < n2) { \n",
    "        if (L[i] <= R[j]) { \n",
    "            arr[k] = L[i]; \n",
    "            i++; \n",
    "        } \n",
    "        else { \n",
    "            arr[k] = R[j]; \n",
    "            j++; \n",
    "        } \n",
    "        k++; \n",
    "    } \n",
    "  \n",
    "    // Copy the remaining elements \n",
    "    // of L[], if there are any \n",
    "    while (i < n1) { \n",
    "        arr[k] = L[i]; \n",
    "        i++; \n",
    "        k++; \n",
    "    } \n",
    "  \n",
    "    // Copy the remaining elements of \n",
    "    // R[], if there are any \n",
    "    while (j < n2) { \n",
    "        arr[k] = R[j]; \n",
    "        j++; \n",
    "        k++; \n",
    "    } \n",
    "} \n",
    "  \n",
    "// l is for left index and r is \n",
    "// right index of the sub-array \n",
    "// of arr to be sorted \n",
    "void mergeSort(int arr[], int l, int r) \n",
    "{ \n",
    "    if (l < r) { \n",
    "        // Same as (l+r)/2, but avoids \n",
    "        // overflow for large l and h \n",
    "        int m = l + (r - l) / 2; \n",
    "  \n",
    "        // Sort first and second halves \n",
    "        mergeSort(arr, l, m); \n",
    "        mergeSort(arr, m + 1, r); \n",
    "  \n",
    "        merge(arr, l, m, r); \n",
    "    } \n",
    "} \n",
    "  \n",
    "// UTILITY FUNCTIONS \n",
    "// Function to print an array \n",
    "void printArray(int A[], int size) \n",
    "{ \n",
    "    int i; \n",
    "    for (i = 0; i < size; i++) \n",
    "        printf(\"%d \", A[i]); \n",
    "    printf(\"\\n\"); \n",
    "} \n",
    "  \n",
    "// Driver code \n",
    "int main() \n",
    "{ \n",
    "    int arr[] = { 12, 11, 13, 5, 6, 7 }; \n",
    "    int arr_size = sizeof(arr) / sizeof(arr[0]); \n",
    "  \n",
    "    printf(\"Given array is \\n\"); \n",
    "    printArray(arr, arr_size); \n",
    "  \n",
    "    mergeSort(arr, 0, arr_size - 1); \n",
    "  \n",
    "    printf(\"\\nSorted array is \\n\"); \n",
    "    printArray(arr, arr_size); \n",
    "    return 0; \n",
    "} "
   ]
  },
  {
   "cell_type": "markdown",
   "id": "a867e24d",
   "metadata": {},
   "source": []
  },
  {
   "cell_type": "markdown",
   "id": "b711a08f",
   "metadata": {},
   "source": []
  },
  {
   "cell_type": "code",
   "execution_count": null,
   "id": "b8c4c5be",
   "metadata": {},
   "outputs": [],
   "source": []
  },
  {
   "cell_type": "code",
   "execution_count": null,
   "id": "1f268a00",
   "metadata": {},
   "outputs": [],
   "source": []
  },
  {
   "cell_type": "code",
   "execution_count": null,
   "id": "73460290",
   "metadata": {},
   "outputs": [],
   "source": []
  },
  {
   "cell_type": "code",
   "execution_count": null,
   "id": "d2111601",
   "metadata": {},
   "outputs": [],
   "source": []
  }
 ],
 "metadata": {
  "kernelspec": {
   "display_name": "Python 3 (ipykernel)",
   "language": "python",
   "name": "python3"
  },
  "language_info": {
   "codemirror_mode": {
    "name": "ipython",
    "version": 3
   },
   "file_extension": ".py",
   "mimetype": "text/x-python",
   "name": "python",
   "nbconvert_exporter": "python",
   "pygments_lexer": "ipython3",
   "version": "3.9.7"
  }
 },
 "nbformat": 4,
 "nbformat_minor": 5
}
